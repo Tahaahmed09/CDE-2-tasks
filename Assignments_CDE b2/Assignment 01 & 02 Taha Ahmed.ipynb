{
 "cells": [
  {
   "cell_type": "markdown",
   "metadata": {},
   "source": [
    "# Part -1 Python Basics (Variables)"
   ]
  },
  {
   "cell_type": "markdown",
   "metadata": {},
   "source": [
    "1. Print Your Name with your Father name and Date of birth using suitable escape sequence charactor"
   ]
  },
  {
   "cell_type": "code",
   "execution_count": 4,
   "metadata": {},
   "outputs": [
    {
     "name": "stdout",
     "output_type": "stream",
     "text": [
      "My name is Taha Ahmed\n",
      "My Father's name is Kaleem Ahmed\n",
      "My date of birth is '4 December 2003' \n"
     ]
    }
   ],
   "source": [
    "print(\"My name is Taha Ahmed\\nMy Father's name is Kaleem Ahmed\\nMy date of birth is \\'4 December 2003\\' \")"
   ]
  },
  {
   "cell_type": "markdown",
   "metadata": {},
   "source": [
    "2. Write your small bio using variables and print it using print function"
   ]
  },
  {
   "cell_type": "code",
   "execution_count": 6,
   "metadata": {},
   "outputs": [
    {
     "name": "stdout",
     "output_type": "stream",
     "text": [
      "Hey there I'm from Korangi Karachi\n",
      "I have completed my intermediate from Degree college \n",
      "Currently I'm not doing any job I'm preparing myself to be a job ready Cloud Engineer\n"
     ]
    }
   ],
   "source": [
    "where_From = \"Hey there I'm from Korangi Karachi\"\n",
    "education = \"I have completed my intermediate from Degree college \"\n",
    "job = \"Currently I'm not doing any job I'm preparing myself to be a job ready Cloud Engineer\"\n",
    "print(where_From)\n",
    "print(education)\n",
    "print(job)"
   ]
  },
  {
   "cell_type": "markdown",
   "metadata": {},
   "source": [
    "3. Write a program in which use all the operators we can use in Python"
   ]
  },
  {
   "cell_type": "code",
   "execution_count": 15,
   "metadata": {},
   "outputs": [
    {
     "name": "stdout",
     "output_type": "stream",
     "text": [
      "Arithmetic Operators:\n",
      "Addition: 7\n",
      "Subtraction: 3\n",
      "Multiplication: 10\n",
      "Division: 2.5\n",
      "Floor Division: 2\n",
      "Modulus: 1\n",
      "Exponentiation: 25\n",
      "\n",
      " \n",
      "Comparison Operators:\n",
      "Equal: False\n",
      "Not Equal: True\n",
      "Greater than: True\n",
      "Less than: False\n",
      "Greater than or Equal: True\n",
      "Less than or Equal: False\n",
      "\n",
      " \n",
      "Logical Operators:\n",
      "AND: False\n",
      "OR: True\n",
      "NOT: False\n",
      "\n",
      "Assignment Operators:\n",
      "After +=: 10\n",
      "After -=: 8\n",
      "After *=: 16\n",
      "After /=: 8.0\n",
      "After //=: 4.0\n",
      "After %=: 1.0\n",
      "After **=: 1.0\n"
     ]
    }
   ],
   "source": [
    "a = 5\n",
    "b = 2\n",
    "print(\"Arithmetic Operators:\")\n",
    "print(\"Addition:\", a + b)\n",
    "print(\"Subtraction:\", a - b)\n",
    "print(\"Multiplication:\", a * b)\n",
    "print(\"Division:\", a / b)\n",
    "print(\"Floor Division:\", a // b)\n",
    "print(\"Modulus:\", a % b)\n",
    "print(\"Exponentiation:\", a ** b)\n",
    "\n",
    "\n",
    "print(\"\\n \\nComparison Operators:\")\n",
    "print(\"Equal:\", a == b)\n",
    "print(\"Not Equal:\", a != b)\n",
    "print(\"Greater than:\", a > b)\n",
    "print(\"Less than:\", a < b)\n",
    "print(\"Greater than or Equal:\", a >= b)\n",
    "print(\"Less than or Equal:\", a <= b)\n",
    "\n",
    "x = True\n",
    "y =  False\n",
    "print(\"\\n \\nLogical Operators:\")\n",
    "print(\"AND:\", x and y)\n",
    "print(\"OR:\", x or y)\n",
    "print(\"NOT:\", not x)\n",
    "\n",
    "\n",
    "c = 7\n",
    "print(\"\\nAssignment Operators:\")\n",
    "c += 3  \n",
    "print(\"After +=:\", c)\n",
    "c -= 2  \n",
    "print(\"After -=:\", c)\n",
    "c *= 2  \n",
    "print(\"After *=:\", c)\n",
    "c /= 2  \n",
    "print(\"After /=:\", c)\n",
    "c //= 2 \n",
    "print(\"After //=:\", c)\n",
    "c %= 3  \n",
    "print(\"After %=:\", c)\n",
    "c **= 2 \n",
    "print(\"After **=:\", c)\n",
    "\n"
   ]
  },
  {
   "cell_type": "markdown",
   "metadata": {},
   "source": [
    "4. Completes the following steps of small task:\n",
    "    - Mention Marks of English , Islamiat and Maths out of 100 in 3 different variables\n",
    "    - Mention Variable of Total Marks and assign 300 to it\n",
    "    - Calculate Percentage"
   ]
  },
  {
   "cell_type": "code",
   "execution_count": 2,
   "metadata": {},
   "outputs": [
    {
     "name": "stdout",
     "output_type": "stream",
     "text": [
      "83.33333333333334\n"
     ]
    }
   ],
   "source": [
    "marks_English = 90 \n",
    "marks_Islamiat = 85\n",
    "marks_Maths = 75\n",
    "\n",
    "total_marks = 300\n",
    "\n",
    "per = ((marks_English + marks_Islamiat + marks_Maths)/ total_marks)  * 100\n",
    "print(per)"
   ]
  },
  {
   "cell_type": "markdown",
   "metadata": {},
   "source": [
    "# Part -2 Python Basics (Conditional Statements)"
   ]
  },
  {
   "cell_type": "markdown",
   "metadata": {},
   "source": [
    "1) A company decided to give bonus of 5% to employee if his/her year of service is more than 5 years.\n",
    "Ask user for their salary and year of service and print the net bonus amount."
   ]
  },
  {
   "cell_type": "code",
   "execution_count": 1,
   "metadata": {},
   "outputs": [
    {
     "name": "stdout",
     "output_type": "stream",
     "text": [
      "1050.0\n"
     ]
    }
   ],
   "source": [
    "salary = int(input(\"Enter Your Salary :\"))\n",
    "service = int(input(\"Enter Your Service :\"))\n",
    "bonus = salary * 5 / 100\n",
    "\n",
    "if service > 5 :\n",
    "    salary += bonus\n",
    "    print(salary)\n",
    "else:\n",
    "    print(salary)"
   ]
  },
  {
   "cell_type": "markdown",
   "metadata": {},
   "source": [
    "\n",
    "2) Write a program to check whether a person is eligible for voting or not. (accept age from user) if age is greater than 17 eligible otherwise not eligible"
   ]
  },
  {
   "cell_type": "code",
   "execution_count": 3,
   "metadata": {},
   "outputs": [
    {
     "name": "stdout",
     "output_type": "stream",
     "text": [
      "Enter Your age : 19\n"
     ]
    },
    {
     "name": "stdout",
     "output_type": "stream",
     "text": [
      "You are Eligible\n"
     ]
    }
   ],
   "source": [
    "\n",
    "age = int(input(\"Enter Your age :\"))\n",
    "\n",
    "if age >= 18 :\n",
    "    print(\"You are Eligible\")\n",
    "else:\n",
    "    print(\"You are NOT Eligible\")\n"
   ]
  },
  {
   "cell_type": "markdown",
   "metadata": {},
   "source": [
    "\n",
    "3) Write a program to check whether a number entered by user is even or odd."
   ]
  },
  {
   "cell_type": "code",
   "execution_count": 4,
   "metadata": {},
   "outputs": [
    {
     "name": "stdout",
     "output_type": "stream",
     "text": [
      "Enter any number : 8\n"
     ]
    },
    {
     "name": "stdout",
     "output_type": "stream",
     "text": [
      "Even\n"
     ]
    }
   ],
   "source": [
    "\n",
    "n = int(input(\"Enter any number :\"))\n",
    "\n",
    "if n %2 == 0 :\n",
    "    print(\"Even\")\n",
    "else:\n",
    "    print(\"ODD\")"
   ]
  },
  {
   "cell_type": "markdown",
   "metadata": {},
   "source": [
    "4) Write a program to check whether a number is divisible by 7 or not.\n",
    "Show Answer"
   ]
  },
  {
   "cell_type": "code",
   "execution_count": 6,
   "metadata": {},
   "outputs": [
    {
     "name": "stdout",
     "output_type": "stream",
     "text": [
      "Enter any number : 10\n"
     ]
    },
    {
     "name": "stdout",
     "output_type": "stream",
     "text": [
      "10  is NOT multiple of 7\n"
     ]
    }
   ],
   "source": [
    "\n",
    "n = int(input(\"Enter any number :\"))\n",
    "\n",
    "if n %7 == 0 :\n",
    "    print(n, \" is multiple of 7\")\n",
    "else:\n",
    "    print(n, \" is NOT multiple of 7\")"
   ]
  },
  {
   "cell_type": "markdown",
   "metadata": {},
   "source": [
    "5) Write a program to display \n",
    "\"Hello\" if a number entered by user is a multiple of five , otherwise print \"Bye\"."
   ]
  },
  {
   "cell_type": "code",
   "execution_count": 2,
   "metadata": {},
   "outputs": [
    {
     "name": "stdout",
     "output_type": "stream",
     "text": [
      "Bye\n"
     ]
    }
   ],
   "source": [
    "n = int(input(\"Enter any number\"))\n",
    "if n %5 == 0:\n",
    "    print(\"Hello\")\n",
    "else:\n",
    "    print(\"Bye\")"
   ]
  },
  {
   "cell_type": "markdown",
   "metadata": {},
   "source": [
    "7) Write a program to display the last digit of a number.\n"
   ]
  },
  {
   "cell_type": "code",
   "execution_count": 3,
   "metadata": {},
   "outputs": [
    {
     "name": "stdout",
     "output_type": "stream",
     "text": [
      "Last digit of  123 is  3\n"
     ]
    }
   ],
   "source": [
    "n = int(input(\"Enter any number\"))\n",
    "last_digit = n % 10\n",
    "\n",
    "print(\"Last digit of \",n,\"is \", last_digit)"
   ]
  },
  {
   "cell_type": "markdown",
   "metadata": {},
   "source": [
    "9) Take values of length and breadth of a rectangle from user and print if it is square or rectangle."
   ]
  },
  {
   "cell_type": "code",
   "execution_count": 14,
   "metadata": {},
   "outputs": [],
   "source": [
    "length = int(input(\"Enter the length of the rectangle: \"))\n",
    "breadth = int(input(\"Enter the breadth of the rectangle: \"))\n",
    "\n",
    "if length == breadth:\n",
    "    print(\"It is a Square.\")\n",
    "else:\n",
    "    print(\"It is a Rectangle.\")"
   ]
  },
  {
   "cell_type": "markdown",
   "metadata": {},
   "source": [
    "10) Take two int values from user and print greatest among them."
   ]
  },
  {
   "cell_type": "code",
   "execution_count": 7,
   "metadata": {},
   "outputs": [
    {
     "name": "stdout",
     "output_type": "stream",
     "text": [
      "Enter First number : 10\n",
      "Enter Second number : 90\n"
     ]
    },
    {
     "name": "stdout",
     "output_type": "stream",
     "text": [
      "90  is Greater than 10\n"
     ]
    }
   ],
   "source": [
    "\n",
    "num1 = int(input(\"Enter First number :\"))\n",
    "num2 = int(input(\"Enter Second number :\"))\n",
    "\n",
    "if num1 >= num2 :\n",
    "    print(num1, \" is Greater than\", num2)\n",
    "else:\n",
    "    print(num2, \" is Greater than\", num1)"
   ]
  },
  {
   "cell_type": "markdown",
   "metadata": {},
   "source": [
    "11) A shop will give discount of 10% if the cost of purchased quantity is more than 1000.\n",
    "Ask user for quantity\n",
    "Suppose, one unit will cost 100.\n",
    "Judge and print total cost for user."
   ]
  },
  {
   "cell_type": "code",
   "execution_count": 16,
   "metadata": {},
   "outputs": [],
   "source": [
    "quantity = int(input(\"Enter the quantity of items: \"))\n",
    "unit_price = 100\n",
    "total_cost = quantity * unit_price\n",
    "\n",
    "if total_cost > 1000:\n",
    "    discount = total_cost * 0.10\n",
    "    total_cost -= discount\n"
   ]
  },
  {
   "cell_type": "markdown",
   "metadata": {},
   "source": [
    "12) A school has following rules for grading system:\n",
    "\n",
    "a. Below 25 - F\n",
    "\n",
    "b. 25 to 45 - E\n",
    "\n",
    "c. 45 to 50 - D\n",
    "\n",
    "d. 50 to 60 - C\n",
    "\n",
    "e. 60 to 80 - B\n",
    "\n",
    "f. Above 80 - A\n",
    "\n",
    "Ask user to enter marks and print the corresponding grade."
   ]
  },
  {
   "cell_type": "code",
   "execution_count": 2,
   "metadata": {},
   "outputs": [],
   "source": [
    "if marks < 25:\n",
    "    grade = \"F\"\n",
    "elif marks < 45:\n",
    "    grade = \"E\"\n",
    "elif marks < 50:\n",
    "    grade = \"D\"\n",
    "elif marks < 60:\n",
    "    grade = \"C\"\n",
    "elif marks < 80:\n",
    "    grade = \"B\"\n",
    "else:\n",
    "    grade = \"A\"\n",
    "\n",
    "print(\"Your grade is:\", grade)"
   ]
  },
  {
   "cell_type": "markdown",
   "metadata": {},
   "source": [
    "14)A student will not be allowed to sit in exam if his/her attendence is less than 75%.\n",
    "\n",
    "Take following input from user\n",
    "\n",
    "- Number of classes held\n",
    "\n",
    "- Number of classes attended.\n",
    "\n",
    "And print\n",
    "\n",
    "- percentage of class attended\n",
    "\n",
    "- Is student is allowed to sit in exam or not.\n"
   ]
  },
  {
   "cell_type": "code",
   "execution_count": 19,
   "metadata": {},
   "outputs": [],
   "source": [
    "classes_held = int(input(\"Enter the number of classes held: \"))\n",
    "classes_attended = int(input(\"Enter the number of classes attended: \"))\n",
    "\n",
    "attendance_percentage = (classes_attended / classes_held) * 100\n",
    "\n",
    "print(\"Attendance Percentage: \" + str(round(attendance_percentage, 2)) + \"%\")\n",
    "\n",
    "if attendance_percentage >= 75:\n",
    "    print(\"The student is allowed to sit in the exam.\")\n",
    "else:\n",
    "    print(\"The student is NOT allowed to sit in the exam.\")"
   ]
  },
  {
   "cell_type": "markdown",
   "metadata": {},
   "source": [
    "15) Modify the above question to allow student to sit if he/she has medical cause. Ask user if he/she has medical cause or not ( 'Y' or 'N' ) and print accordingly."
   ]
  },
  {
   "cell_type": "code",
   "execution_count": 8,
   "metadata": {},
   "outputs": [
    {
     "name": "stdout",
     "output_type": "stream",
     "text": [
      "Enter the number of classes held:  10\n",
      "Enter the number of classes attended:  2\n"
     ]
    },
    {
     "name": "stdout",
     "output_type": "stream",
     "text": [
      "Attendance Percentage: 20.0 %\n"
     ]
    },
    {
     "name": "stdout",
     "output_type": "stream",
     "text": [
      "Do you have a medical cause? (Y/N):  Y\n"
     ]
    },
    {
     "name": "stdout",
     "output_type": "stream",
     "text": [
      "You are allowed to sit in the exam due to medical reasons.\n"
     ]
    }
   ],
   "source": [
    "classes_held = int(input(\"Enter the number of classes held: \"))\n",
    "classes_attended = int(input(\"Enter the number of classes attended: \"))\n",
    "\n",
    "attendance_percentage = (classes_attended / classes_held) * 100\n",
    "\n",
    "print(\"Attendance Percentage:\", round(attendance_percentage, 2), \"%\")\n",
    "if attendance_percentage >= 75:\n",
    "    print(\"You are allowed to sit in the exam.\")\n",
    "else:\n",
    "    medical_cause = input(\"Do you have a medical cause? (Y/N): \")\n",
    "    if medical_cause == \"Y\":\n",
    "        print(\"You are allowed to sit in the exam due to medical reasons.\")\n",
    "    else:\n",
    "        print(\"You are not allowed to sit in the exam.\")"
   ]
  },
  {
   "cell_type": "markdown",
   "metadata": {},
   "source": [
    "16) Write a program to check if a year is leap year or not.\n",
    "\n",
    "If a year is divisible by 4 then it is leap year but if the year is century year like 2000, 1900, 2100 then it must be divisible by 400."
   ]
  },
  {
   "cell_type": "code",
   "execution_count": 21,
   "metadata": {},
   "outputs": [],
   "source": [
    "year = int(input(\"Enter a year: \"))\n",
    "\n",
    "if (year % 4 == 0 and year % 100 != 0) or (year % 400 == 0):\n",
    "    print(year, \"is a leap year.\")\n",
    "else:\n",
    "    print(year, \"is not a leap year.\")"
   ]
  },
  {
   "cell_type": "markdown",
   "metadata": {},
   "source": [
    "17) Ask user to enter age, gender ( M or F ), marital status ( Y or N ) and then using following rules print their place of service.\n",
    "\n",
    "if employee is female, then she will work only in urban areas.\n",
    "\n",
    "if employee is a male and age is in between 20 to 40 then he may work in anywhere\n",
    "\n",
    "if employee is male and age is in between 40 t0 60 then he will work in urban areas only.\n",
    "\n",
    "And any other input of age should print \"ERROR\""
   ]
  },
  {
   "cell_type": "code",
   "execution_count": 22,
   "metadata": {},
   "outputs": [],
   "source": [
    "age = int(input(\"Enter your age: \"))\n",
    "gender = input(\"Enter your gender (M/F): \")\n",
    "marital_status = input(\"Are you married? (Y/N): \")\n",
    "\n",
    "if gender == \"F\":\n",
    "    print(\"You will work only in urban areas.\")\n",
    "elif gender == \"M\":\n",
    "    if 20 <= age <= 40:\n",
    "        print(\"You may work anywhere.\")\n",
    "    elif 40 < age <= 60:\n",
    "        print(\"You will work only in urban areas.\")\n",
    "    else:\n",
    "        print(\"ERROR\")\n",
    "else:\n",
    "    print(\"Invalid gender input.\")"
   ]
  },
  {
   "cell_type": "markdown",
   "metadata": {},
   "source": [
    "6) Write a program to calculate the electricity bill (accept number of unit from user) according to the following criteria :\n",
    "     Unit                                                     Price  \n",
    "uptp 100 units                                             no charge\n",
    "Next 200 units                                              Rs 5 per unit\n",
    "After 200 units                                             Rs 10 per unit\n",
    "(For example if input unit is 350 than total bill amount is Rs.3500\n",
    "(For example if input unit is 97 than total bill amount is Rs.0\n",
    "(For example if input unit is 150 than total bill amount is Rs.750"
   ]
  },
  {
   "cell_type": "code",
   "execution_count": null,
   "metadata": {},
   "outputs": [],
   "source": [
    "units = int(input(\"Enter the number of units consumed: \"))\n",
    "\n",
    "\n",
    "if units <= 100:\n",
    "    bill = 0  \n",
    "elif units <= 300:\n",
    "    bill = (units - 100) * 5  \n",
    "else:\n",
    "    bill = (200 * 5) + ((units - 300) * 10)  \n",
    "print(f\"Total electricity bill: Rs.{bill}\")\n"
   ]
  },
  {
   "cell_type": "markdown",
   "metadata": {},
   "source": [
    "13) Take input of age of 3 people by user and determine oldest and youngest among them."
   ]
  },
  {
   "cell_type": "code",
   "execution_count": 18,
   "metadata": {},
   "outputs": [],
   "source": [
    "age1 = int(input(\"Enter the age of first person: \"))\n",
    "age2 = int(input(\"Enter the age of second person: \"))\n",
    "age3 = int(input(\"Enter the age of third person: \"))\n",
    "\n",
    "oldest = max(age1, age2, age3)\n",
    "youngest = min(age1, age2, age3)\n",
    "\n",
    "print(f\"The oldest person is {oldest} years old.\")\n",
    "print(f\"The youngest person is {youngest} years old.\")\n"
   ]
  }
 ],
 "metadata": {
  "kernelspec": {
   "display_name": "base",
   "language": "python",
   "name": "python3"
  },
  "language_info": {
   "codemirror_mode": {
    "name": "ipython",
    "version": 3
   },
   "file_extension": ".py",
   "mimetype": "text/x-python",
   "name": "python",
   "nbconvert_exporter": "python",
   "pygments_lexer": "ipython3",
   "version": "3.12.7"
  }
 },
 "nbformat": 4,
 "nbformat_minor": 4
}
