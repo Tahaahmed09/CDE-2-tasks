{
 "cells": [
  {
   "cell_type": "markdown",
   "metadata": {},
   "source": [
    "1.  Write a program that accepts a string from user. Your program should count and display number of vowels in that string."
   ]
  },
  {
   "cell_type": "code",
   "execution_count": 1,
   "metadata": {},
   "outputs": [
    {
     "name": "stdout",
     "output_type": "stream",
     "text": [
      "Number of vowels in the string: 3\n"
     ]
    }
   ],
   "source": [
    "\n",
    "text = input(\"Enter a string: \")\n",
    "\n",
    "vowels = \"AEIOUaeiou\"\n",
    "\n",
    "\n",
    "count = sum(1 for char in text if char in vowels)\n",
    "\n",
    "\n",
    "print(\"Number of vowels in the string:\", count)\n"
   ]
  },
  {
   "cell_type": "markdown",
   "metadata": {},
   "source": [
    "2.  Write a program that reads a string from keyboard and display: \n",
    "     * The number of uppercase letters in the string \n",
    "     * The number of lowercase letters in the string \n",
    "     * The number of digits in the string \n",
    "     * The number of whitespace characters in the string  "
   ]
  },
  {
   "cell_type": "code",
   "execution_count": 2,
   "metadata": {},
   "outputs": [
    {
     "name": "stdout",
     "output_type": "stream",
     "text": [
      "Upper case 3\n",
      "Lower case 6\n",
      "Digits 4\n",
      "Spaces 3\n"
     ]
    }
   ],
   "source": [
    "str = \"Taha AhmeD 0023 \"\n",
    "\n",
    "count_upper = sum(1 for char in str if char.isupper())\n",
    "count_lower = sum(1 for char in str if char.islower())\n",
    "count_digits = sum(1 for char in str if char.isdigit())\n",
    "count_space = sum(1 for char in str if char.isspace())\n",
    "\n",
    "print(\"Upper case\", count_upper)\n",
    "print(\"Lower case\", count_lower)\n",
    "print(\"Digits\", count_digits)\n",
    "print(\"Spaces\", count_space)"
   ]
  },
  {
   "cell_type": "markdown",
   "metadata": {},
   "source": [
    "3. Write a Python program that accepts a string from user. Your program should create and display a \n",
    "new string where the first and last characters have been exchanged. \n",
    "For example if the user enters the string 'HELLO' then new string would be 'OELLH'  "
   ]
  },
  {
   "cell_type": "code",
   "execution_count": 8,
   "metadata": {},
   "outputs": [
    {
     "name": "stdout",
     "output_type": "stream",
     "text": [
      "nythoP\n"
     ]
    }
   ],
   "source": [
    "str = \"Python\"\n",
    "\n",
    "new_str = str[-1 ]+  str[1:-1] + str[0] \n",
    "\n",
    "print(new_str)"
   ]
  },
  {
   "cell_type": "markdown",
   "metadata": {},
   "source": [
    "4. Write a Python program that accepts a string from user. Your program should create a new string in \n",
    "reverse of first string and display it. "
   ]
  },
  {
   "cell_type": "code",
   "execution_count": 20,
   "metadata": {},
   "outputs": [
    {
     "name": "stdout",
     "output_type": "stream",
     "text": [
      "Reversed string: ahaT\n"
     ]
    }
   ],
   "source": [
    "str = input(\"Enter a string: \")\n",
    "\n",
    "reversed_str = str[::-1]\n",
    "\n",
    "print(\"Reversed string:\", reversed_str)"
   ]
  },
  {
   "cell_type": "markdown",
   "metadata": {},
   "source": [
    "5. Write a Python program that accepts a string from user. Your program should create a new string by \n",
    "shifting one position to left. \n",
    "For example if the user enters the string 'examination 2021' then new string would be 'xamination \n",
    "2021e'  "
   ]
  },
  {
   "cell_type": "code",
   "execution_count": null,
   "metadata": {},
   "outputs": [
    {
     "name": "stdout",
     "output_type": "stream",
     "text": [
      "aha AhmedT\n"
     ]
    }
   ],
   "source": [
    "str = \"Taha Ahmed\"\n",
    "new_str = str[1:-1]+str[-1] +str[0]\n",
    "print(new_str)"
   ]
  },
  {
   "cell_type": "markdown",
   "metadata": {},
   "source": [
    "6. Write a program that asks the user to input his name and print its initials. Assuming that the user \n",
    "always types first name, middle name and last name and does not include any unnecessary spaces. \n",
    "For example, if the user enters Ajay Kumar Garg the program should display A. K. G. \n",
    "Note:Don't use split() method  "
   ]
  },
  {
   "cell_type": "code",
   "execution_count": 26,
   "metadata": {},
   "outputs": [
    {
     "name": "stdout",
     "output_type": "stream",
     "text": [
      "Initials: T. A. E.\n"
     ]
    }
   ],
   "source": [
    "\n",
    "name = input(\"Enter your full name: \")\n",
    "\n",
    "initials = \"\"\n",
    "\n",
    "\n",
    "if name:  \n",
    "    initials += name[0] + \". \"  \n",
    "    \n",
    "    for i in range(1, len(name)):\n",
    "        if name[i] == \" \":  \n",
    "            initials += name[i + 1] + \". \" \n",
    "\n",
    "\n",
    "print(\"Initials:\", initials.strip())  \n"
   ]
  },
  {
   "cell_type": "markdown",
   "metadata": {},
   "source": [
    "7. A palindrome is a string that reads the same backward as forward. For example, the words dad, \n",
    "madam and radar are all palindromes. Write a programs that determines whether the string is a \n",
    "palindrome. \n",
    "Note: do not use reverse() method   "
   ]
  },
  {
   "cell_type": "code",
   "execution_count": 32,
   "metadata": {},
   "outputs": [
    {
     "name": "stdout",
     "output_type": "stream",
     "text": [
      "dada is NOT Palindrome\n"
     ]
    }
   ],
   "source": [
    "str = \"dada\"\n",
    "palindrome_Check = str[:: -1]\n",
    "\n",
    "if str == palindrome_Check:\n",
    "    print(f\"{str} is Palindrome\")\n",
    "else:\n",
    "    print(f\"{str} is NOT Palindrome\")\n"
   ]
  },
  {
   "cell_type": "markdown",
   "metadata": {},
   "source": [
    "8. Write a program that display following output: \n",
    "SHIFT \n",
    "HIFTS \n",
    "IFTSH \n",
    "FTSHI \n",
    "TSHIF \n",
    "SHIFT "
   ]
  },
  {
   "cell_type": "code",
   "execution_count": 39,
   "metadata": {},
   "outputs": [
    {
     "name": "stdout",
     "output_type": "stream",
     "text": [
      "SHIFT\n",
      "HIFTS\n",
      "IFTSH\n",
      "FTSHI\n",
      "TSHIF\n",
      "SHIFT\n"
     ]
    }
   ],
   "source": [
    "str = \"SHIFT\"\n",
    "print(str)\n",
    "str1 = str[1:-1] +str[-1] +str[0]\n",
    "print(str1)\n",
    "\n",
    "str2 = str1[1:-1] +str1[-1] +str1[0]\n",
    "print(str2)\n",
    "\n",
    "str3 = str2[1:-1] +str2[-1] +str2[0]\n",
    "print(str3)\n",
    "\n",
    "str4 = str3[1:-1] +str3[-1] +str3[0]\n",
    "print(str4)\n",
    "\n",
    "str5 = str4[1:-1] +str4[-1] +str4[0]\n",
    "print(str5)"
   ]
  },
  {
   "cell_type": "markdown",
   "metadata": {},
   "source": [
    "9. Write a program in python that accepts a string to setup a passwords. Your entered password must \n",
    "meet the following requirements: \n",
    "The password must be at least eight characters long. \n",
    "It must contain at least one uppercase letter. \n",
    "It must contain at least one lowercase letter. \n",
    "It must contain at least one numeric digit. \n",
    "Your program should should perform this validation.  "
   ]
  },
  {
   "cell_type": "code",
   "execution_count": 41,
   "metadata": {},
   "outputs": [
    {
     "name": "stdout",
     "output_type": "stream",
     "text": [
      "Password must contain at least one uppercase letter.\n"
     ]
    }
   ],
   "source": [
    "def is_valid_password(password):\n",
    "    if len(password) < 8:\n",
    "        return \"Password must be at least 8 characters long.\"\n",
    "    \n",
    "    has_upper = False\n",
    "    has_lower = False\n",
    "    has_digit = False\n",
    "\n",
    "    for char in password:\n",
    "        if char.isupper():\n",
    "            has_upper = True\n",
    "        elif char.islower():\n",
    "            has_lower = True\n",
    "        elif char.isdigit():\n",
    "            has_digit = True\n",
    "\n",
    "    if not has_upper:\n",
    "        return \"Password must contain at least one uppercase letter.\"\n",
    "    if not has_lower:\n",
    "        return \"Password must contain at least one lowercase letter.\"\n",
    "    if not has_digit:\n",
    "        return \"Password must contain at least one numeric digit.\"\n",
    "\n",
    "    return \"Password is valid!\"\n",
    "\n",
    "\n",
    "password = input(\"Enter a password: \")\n",
    "print(is_valid_password(password))\n"
   ]
  },
  {
   "cell_type": "code",
   "execution_count": null,
   "metadata": {},
   "outputs": [],
   "source": []
  }
 ],
 "metadata": {
  "kernelspec": {
   "display_name": "base",
   "language": "python",
   "name": "python3"
  },
  "language_info": {
   "codemirror_mode": {
    "name": "ipython",
    "version": 3
   },
   "file_extension": ".py",
   "mimetype": "text/x-python",
   "name": "python",
   "nbconvert_exporter": "python",
   "pygments_lexer": "ipython3",
   "version": "3.12.7"
  }
 },
 "nbformat": 4,
 "nbformat_minor": 2
}
